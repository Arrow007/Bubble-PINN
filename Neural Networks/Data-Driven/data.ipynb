{
 "cells": [
  {
   "cell_type": "markdown",
   "metadata": {},
   "source": [
    "# Data (CSV) Model"
   ]
  },
  {
   "cell_type": "markdown",
   "metadata": {},
   "source": [
    "### Imports"
   ]
  },
  {
   "cell_type": "code",
   "execution_count": 1,
   "metadata": {},
   "outputs": [],
   "source": [
    "import torch\n",
    "import torch.nn as nn\n",
    "import torch.optim as optim\n",
    "from torch.nn import MSELoss\n",
    "from torch.optim import Adam, lr_scheduler\n",
    "from torch.utils.data import Dataset\n",
    "from tqdm.notebook import tqdm\n",
    "import pandas as pd\n",
    "import os\n",
    "import matplotlib.pyplot as plt\n",
    "import numpy as np\n",
    "import math\n",
    "from datetime import datetime\n",
    "import logging\n",
    "import json\n",
    "from dotenv import load_dotenv"
   ]
  },
  {
   "cell_type": "markdown",
   "metadata": {},
   "source": [
    "### Parameters"
   ]
  },
  {
   "cell_type": "code",
   "execution_count": 2,
   "metadata": {},
   "outputs": [
    {
     "name": "stdout",
     "output_type": "stream",
     "text": [
      "cuda:0\n",
      "/teamspace/studios/this_studio/Bubble-PINN/Data/gtl_b1000_t500.csv\n",
      "/teamspace/studios/this_studio/Bubble-PINN/Data/gtl_b100_t500.csv\n"
     ]
    }
   ],
   "source": [
    "load_dotenv()\n",
    "\n",
    "# Simulation\n",
    "TUBE_X = 0.21e-3 # 0.21 mm\n",
    "TUBE_Y = 0.21e-3 # 0.21 mm\n",
    "U_MAX = 30.0e-3 # 30.0 mm/s\n",
    "ROTATION_Y = 105 # deg\n",
    "TUBE_CENTER = torch.tensor([0.0, 0.2e-3, 25e-3], dtype=torch.float32) # [0, 0.2*mm, 25*mm]\n",
    "\n",
    "# Run\n",
    "TRAIN_DATA = os.getenv(\"TRAIN_DATA_PATH\")\n",
    "INF_DATA = os.getenv(\"INF_DATA_PATH\")\n",
    "INITIAL_LR = 0.0005\n",
    "EPOCHS = 50000\n",
    "SCHEDULER_STEP = 5000\n",
    "SCHEDULER_GAMMA = 0.75\n",
    "\n",
    "# Performance\n",
    "DEVICE = torch.device(\"cuda:0\" if torch.cuda.is_available() else \"cpu\")\n",
    "\n",
    "print(DEVICE, TRAIN_DATA, INF_DATA, sep=\"\\n\")"
   ]
  },
  {
   "cell_type": "markdown",
   "metadata": {},
   "source": [
    "### Logging"
   ]
  },
  {
   "cell_type": "code",
   "execution_count": 3,
   "metadata": {},
   "outputs": [],
   "source": [
    "# Clear existing handlers\n",
    "for handler in logging.root.handlers[:]:\n",
    "    logging.root.removeHandler(handler)\n",
    "\n",
    "# Create folder to store log for this run\n",
    "run_date = datetime.now().strftime(\"%m-%d-%Y\")\n",
    "run_time = datetime.now().strftime(\"%H_%M_%S\")\n",
    "\n",
    "output_dir = f\"output/{run_date}/{run_time}\"\n",
    "\n",
    "os.makedirs(output_dir, exist_ok=True)\n",
    "\n",
    "# Initialize Logger\n",
    "log_path = os.path.join(output_dir, \"log.json\")\n",
    "logging.basicConfig(\n",
    "    filename=log_path,\n",
    "    level=logging.INFO,\n",
    "    format=\"\"\n",
    ")\n",
    "logger = logging.getLogger()\n",
    "\n",
    "# Log Parameters\n",
    "log = {\n",
    "    \"PURE DATA MODEL\": {\n",
    "        \"PARAMETERS\": {\n",
    "            \"Simulation\": {\n",
    "                \"TUBE_X\": TUBE_X,\n",
    "                \"TUBE_Y\": TUBE_Y,\n",
    "                \"U_MAX\": U_MAX,\n",
    "                \"ROTATION_Y\": ROTATION_Y,\n",
    "                \"TUBE_CENTER\": [0.0, 0.2e-3, 25e-3]\n",
    "            },\n",
    "            \"Run\": {\n",
    "                \"TRAIN DATA\": TRAIN_DATA,\n",
    "                \"INFERENCE DATA\": INF_DATA,\n",
    "                \"INITIAL LR\": INITIAL_LR,\n",
    "                \"EPOCHS\": EPOCHS,\n",
    "                \"SCHEDULER STEP\": SCHEDULER_STEP,\n",
    "                \"SCHEDULER GAMMA\": SCHEDULER_GAMMA\n",
    "            },\n",
    "            \"Performance\": {\n",
    "                \"DEVICE\": str(DEVICE)\n",
    "            }\n",
    "        },\n",
    "        \"TRAIN DATASET\": {},\n",
    "        \"INFERENCE DATASET\": {},\n",
    "        \"TRAIN LOSS\": [],\n",
    "        \"INFERENCE LOSS\": {}\n",
    "    }\n",
    "}"
   ]
  },
  {
   "cell_type": "markdown",
   "metadata": {},
   "source": [
    "### Training Dataset"
   ]
  },
  {
   "cell_type": "code",
   "execution_count": 4,
   "metadata": {},
   "outputs": [],
   "source": [
    "class BubbleDataset(Dataset):\n",
    "    def __init__(self, file_path):\n",
    "        self.df = pd.read_csv(file_path)\n",
    "        self.df = self.df.sort_values([\"id\", \"t\"])\n",
    "\n",
    "    def __len__(self):\n",
    "        return len(self.df)\n",
    "    \n",
    "    def __getitem__(self, row, col):\n",
    "        return self.df.iat[row, col]\n",
    "    \n",
    "    def get_initial_positions(self):\n",
    "        # Get the initial positions of each and every bubble\n",
    "        grouped = self.df.groupby(\"id\")\n",
    "        initial_positions = grouped.first()[[\"x\", \"y\", \"z\"]].values\n",
    "        initial_positions = torch.tensor(initial_positions, dtype=torch.float32)\n",
    "\n",
    "        return initial_positions\n",
    "    \n",
    "    def get_time_vector(self):\n",
    "        # Get a time vector of the times (unique) in the dataset\n",
    "        times = self.df[\"t\"].unique()\n",
    "        times = torch.tensor(times, dtype=torch.float32).reshape(-1, 1)\n",
    "\n",
    "        return times\n",
    "        \n",
    "    def get_times(self):\n",
    "        # Extract time column from dataset\n",
    "        return torch.tensor(self.df[\"t\"].values, dtype=torch.float32)\n",
    "\n",
    "    def get_ids(self):\n",
    "        # Extract id column from dataset\n",
    "        return torch.tensor(self.df[\"id\"].values, dtype=torch.long)\n",
    "    \n",
    "    def get_all_positions(self):\n",
    "        # Extract x, y, z columns from dataset\n",
    "        return torch.tensor(self.df[[\"x\", \"y\", \"z\"]].values, dtype=torch.float32)\n",
    "    \n",
    "    def get_velocities(self):\n",
    "        # Extract vx, vy, vz columns from dataset\n",
    "        return torch.tensor(self.df[[\"vx\", \"vy\", \"vz\"]].values, dtype=torch.float32)"
   ]
  },
  {
   "cell_type": "code",
   "execution_count": 5,
   "metadata": {},
   "outputs": [],
   "source": [
    "# Setup training dataset\n",
    "train_dataset = BubbleDataset(TRAIN_DATA)\n",
    "\n",
    "# Get core tensors\n",
    "train_times = train_dataset.get_times().reshape(-1, 1).to(DEVICE)\n",
    "train_targets = train_dataset.get_all_positions().to(DEVICE)\n",
    "train_ids = train_dataset.get_ids()\n",
    "train_initial_positions = train_dataset.get_initial_positions()\n",
    "\n",
    "# Use IDs to index the corresponding initial position for each sample\n",
    "train_init_pos = train_initial_positions[train_ids].to(DEVICE)\n",
    "\n",
    "# Build input: [t, x0, y0, z0]\n",
    "train_inputs = torch.cat([train_times, train_init_pos], dim=1).to(DEVICE)"
   ]
  },
  {
   "cell_type": "code",
   "execution_count": 6,
   "metadata": {},
   "outputs": [],
   "source": [
    "# Log dataset shapes\n",
    "log[\"PURE DATA MODEL\"][\"TRAIN DATASET\"] = {\n",
    "    \"Bubbles\": len(train_ids.unique()),\n",
    "    \"Frames\": len(train_times.unique())\n",
    "}"
   ]
  },
  {
   "cell_type": "markdown",
   "metadata": {},
   "source": [
    "### Model"
   ]
  },
  {
   "cell_type": "code",
   "execution_count": 7,
   "metadata": {},
   "outputs": [],
   "source": [
    "# Get scaling parameters\n",
    "train_times_full = train_dataset.get_times().to(DEVICE) # Get time column\n",
    "t_min, t_max = train_times_full.min(), train_times_full.max() # Extract min and max\n",
    "pos_min, indices = train_initial_positions.min(dim=0) # Min across bubbles for each dim (x,y,z). Don't need indices\n",
    "pos_max, indices = train_initial_positions.max(dim=0) # Max across bubbles for each dim (x,y,z). Don't need indices\n",
    "eps = 1e-8 # Prevent division by zero if min == max\n",
    "\n",
    "SCALING_PARAMS = {\n",
    "    't_min': t_min, \n",
    "    't_max': t_max,\n",
    "    'pos_min': pos_min, \n",
    "    'pos_max': pos_max, \n",
    "    'eps': eps\n",
    "    }\n",
    "\n",
    "class BubbleModel(nn.Module):\n",
    "    def __init__(self, scaling_params=SCALING_PARAMS): \n",
    "        super().__init__()\n",
    "        self.scaling_params = scaling_params\n",
    "        self.net = nn.Sequential(\n",
    "            nn.Linear(4, 128), # t (normalized), x0 (normalized), y0 (normalized), z0 (normalized)\n",
    "            nn.Tanh(),\n",
    "            nn.Linear(128, 128),\n",
    "            nn.Tanh(),\n",
    "            nn.Linear(128 , 3) # x(t), y(t), z(t)\n",
    "        )\n",
    "\n",
    "    def normalize_inputs(self, t, init_pos):\n",
    "        scaling_params = self.scaling_params\n",
    "\n",
    "        t_min = scaling_params['t_min'].to(DEVICE)\n",
    "        t_max = scaling_params['t_max'].to(DEVICE)\n",
    "        pos_min = scaling_params['pos_min'].to(DEVICE)\n",
    "        pos_max = scaling_params['pos_max'].to(DEVICE)\n",
    "        eps = scaling_params['eps']\n",
    "\n",
    "        # Normalize t to [-1, 1]\n",
    "        t_norm = 2 * (t - t_min) / (t_max - t_min + eps) - 1\n",
    "\n",
    "        # Normalize init_pos to [-1, 1] per dimension\n",
    "        pos_norm = 2 * (init_pos - pos_min) / (pos_max - pos_min + eps) - 1\n",
    "\n",
    "        return torch.cat([t_norm, pos_norm], dim=1)\n",
    "\n",
    "    def forward(self, t, init_pos):\n",
    "        norm_input = self.normalize_inputs(t, init_pos)\n",
    "        return self.net(norm_input)"
   ]
  },
  {
   "cell_type": "code",
   "execution_count": 8,
   "metadata": {},
   "outputs": [],
   "source": [
    "model = BubbleModel().to(DEVICE)"
   ]
  },
  {
   "cell_type": "markdown",
   "metadata": {},
   "source": [
    "### Training"
   ]
  },
  {
   "cell_type": "code",
   "execution_count": null,
   "metadata": {},
   "outputs": [
    {
     "name": "stdout",
     "output_type": "stream",
     "text": [
      "Training Started\n"
     ]
    },
    {
     "data": {
      "application/vnd.jupyter.widget-view+json": {
       "model_id": "7ee6a69a21f4438eab68c76a12d6ea5c",
       "version_major": 2,
       "version_minor": 0
      },
      "text/plain": [
       "  0%|          | 0/50000 [00:00<?, ?it/s]"
      ]
     },
     "metadata": {},
     "output_type": "display_data"
    },
    {
     "name": "stdout",
     "output_type": "stream",
     "text": [
      "Epoch 0: Data Loss = 0.019814\n",
      "Epoch 5000: Data Loss = 0.000090\n",
      "Epoch 10000: Data Loss = 0.000056\n",
      "Epoch 15000: Data Loss = 0.000035\n",
      "Epoch 20000: Data Loss = 0.000027\n",
      "Epoch 25000: Data Loss = 0.000023\n",
      "Epoch 30000: Data Loss = 0.000021\n",
      "Epoch 35000: Data Loss = 0.000018\n",
      "Epoch 40000: Data Loss = 0.000017\n",
      "Epoch 45000: Data Loss = 0.000015\n",
      "Epoch 49999: Data Loss = 0.000014\n",
      "\n",
      "Training complete. Best model saved to output/04-20-2025/20_17_25/hybrid_model_epoch_49999_loss_0p000014.pt with loss 0.000014\n"
     ]
    }
   ],
   "source": [
    "optimizer = Adam(model.parameters(), lr=INITIAL_LR)\n",
    "scheduler = lr_scheduler.StepLR(optimizer, step_size=SCHEDULER_STEP, gamma=SCHEDULER_GAMMA) # Adjust params\n",
    "\n",
    "# Checkpoint setup\n",
    "best_loss = float('inf')\n",
    "best_model_path = None\n",
    "\n",
    "print(\"Training Started\")\n",
    "for epoch in tqdm(range(EPOCHS)):\n",
    "    model.train()\n",
    "    optimizer.zero_grad()\n",
    "\n",
    "    t = train_inputs[:, :1] # Time column for all rows\n",
    "    init_pos = train_inputs[:, 1:] # Initial pos corresponding to each row\n",
    "\n",
    "    # Prediction for all time steps (needed for Data and Physics loss)\n",
    "    pred = model(t, init_pos)\n",
    "\n",
    "    # Calculate loss\n",
    "    loss = MSELoss()(pred, train_targets)\n",
    "\n",
    "    # Backpropagation, gradient clipping, optimization, LR scheduling\n",
    "    loss.backward()\n",
    "    torch.nn.utils.clip_grad_norm_(model.parameters(), max_norm=1.0)\n",
    "    optimizer.step()\n",
    "    scheduler.step()\n",
    "\n",
    "    # Checkpoint best model\n",
    "    current_loss = loss.item()\n",
    "\n",
    "    if current_loss < best_loss:\n",
    "        old_best_path = best_model_path\n",
    "        best_loss = current_loss\n",
    "\n",
    "        loss_str = f\"{current_loss:.6f}\".replace('.', 'p')\n",
    "        new_best_filename = f\"data_model_epoch_{epoch}_loss_{loss_str}.pt\"\n",
    "\n",
    "        best_model_path = os.path.join(output_dir, new_best_filename)\n",
    "\n",
    "        torch.save(model.state_dict(), best_model_path)\n",
    "\n",
    "        # Clean up previous best model file\n",
    "        if old_best_path is not None and os.path.exists(old_best_path):\n",
    "            os.remove(old_best_path)\n",
    "\n",
    "    # Logging\n",
    "    if epoch % SCHEDULER_STEP == 0 or epoch == EPOCHS - 1:\n",
    "        print(f\"Epoch {epoch}: Data Loss = {loss.item():.6f}\")\n",
    "\n",
    "        log[\"PURE DATA MODEL\"][\"TRAIN LOSS\"].append({\n",
    "            \"Epoch\": epoch,\n",
    "            \"Data Loss\": float(loss.item())\n",
    "        })\n",
    "\n",
    "log[\"PURE DATA MODEL\"][\"TRAIN LOSS\"].append({\n",
    "    \"Best Loss\": float(best_loss)\n",
    "})\n",
    "\n",
    "print(f\"\\nTraining complete. Best model saved to {best_model_path} with loss {best_loss:.6f}\")"
   ]
  },
  {
   "cell_type": "markdown",
   "metadata": {},
   "source": [
    "### Plot Loss Curve"
   ]
  },
  {
   "cell_type": "code",
   "execution_count": 10,
   "metadata": {},
   "outputs": [
    {
     "data": {
      "image/png": "[encoded data removed]",
      "text/plain": [
       "<Figure size 1400x800 with 1 Axes>"
      ]
     },
     "metadata": {},
     "output_type": "display_data"
    }
   ],
   "source": [
    "loss_data_list = log[\"PURE DATA MODEL\"][\"TRAIN LOSS\"]\n",
    "\n",
    "epochs = []\n",
    "data_losses = []\n",
    "\n",
    "for entry in loss_data_list:\n",
    "    epochs.append(entry.get(\"Epoch\"))\n",
    "    data_losses.append(entry.get(\"Data Loss\", float('nan')))\n",
    "\n",
    "# Plot loss curve\n",
    "plt.figure(figsize=(14, 8))\n",
    "\n",
    "# Plot total loss\n",
    "plt.plot(epochs, data_losses, label='Data Loss (MSE)', linewidth=2)\n",
    "\n",
    "# Formatting\n",
    "plt.yscale('log')\n",
    "plt.title('Data-Driven Model - Training Loss Components Over Epochs')\n",
    "plt.xlabel('Epoch')\n",
    "plt.ylabel('Loss Contribution (Log Scale)')\n",
    "plt.legend()\n",
    "plt.grid(True, which='both', linestyle='--', linewidth=0.5)\n",
    "plt.tight_layout()\n",
    "\n",
    "# Show & Save\n",
    "plt.savefig(os.path.join(output_dir, \"data_loss_curve.png\"))\n",
    "plt.show()\n",
    "plt.close() "
   ]
  },
  {
   "cell_type": "markdown",
   "metadata": {},
   "source": [
    "### Inference Dataset"
   ]
  },
  {
   "cell_type": "code",
   "execution_count": 11,
   "metadata": {},
   "outputs": [],
   "source": [
    "# Setup inference dataset\n",
    "inf_dataset = BubbleDataset(INF_DATA)\n",
    "\n",
    "# Get core tensors\n",
    "inf_times = inf_dataset.get_times().reshape(-1, 1).to(DEVICE)\n",
    "inf_targets = inf_dataset.get_all_positions().to(DEVICE)\n",
    "inf_ids = inf_dataset.get_ids().to(DEVICE)\n",
    "inf_initial_positions = inf_dataset.get_initial_positions().to(DEVICE)\n",
    "\n",
    "# Use IDs to index the corresponding initial position for each sample\n",
    "inf_init_pos = inf_initial_positions[inf_ids].to(DEVICE)\n",
    "\n",
    "# Build input: [t, x0, y0, z0]\n",
    "inf_inputs = torch.cat([inf_times, inf_init_pos], dim=1).to(DEVICE)"
   ]
  },
  {
   "cell_type": "code",
   "execution_count": 12,
   "metadata": {},
   "outputs": [],
   "source": [
    "# Log dataset shapes\n",
    "log[\"PURE DATA MODEL\"][\"INFERENCE DATASET\"] = {\n",
    "    \"Bubbles\": len(inf_ids.unique()),\n",
    "    \"Frames\": len(inf_times.unique())\n",
    "}"
   ]
  },
  {
   "cell_type": "markdown",
   "metadata": {},
   "source": [
    "### Inference"
   ]
  },
  {
   "cell_type": "code",
   "execution_count": 13,
   "metadata": {},
   "outputs": [
    {
     "name": "stdout",
     "output_type": "stream",
     "text": [
      "Inference Results:\n",
      "Data Loss = 0.000017\n",
      "Projected Velocity Loss = 0.011517\n",
      "Full Velocity Loss = 0.003839\n",
      "\n",
      "Inference outputs saved to output/04-20-2025/20_17_25/inference_outputs.pt\n"
     ]
    },
    {
     "name": "stderr",
     "output_type": "stream",
     "text": [
      "/tmp/ipykernel_205105/1221028762.py:3: FutureWarning: You are using `torch.load` with `weights_only=False` (the current default value), which uses the default pickle module implicitly. It is possible to construct malicious pickle data which will execute arbitrary code during unpickling (See https://github.com/pytorch/pytorch/blob/main/SECURITY.md#untrusted-models for more details). In a future release, the default value for `weights_only` will be flipped to `True`. This limits the functions that could be executed during unpickling. Arbitrary objects will no longer be allowed to be loaded via this mode unless they are explicitly allowlisted by the user via `torch.serialization.add_safe_globals`. We recommend you start setting `weights_only=True` for any use case where you don't have full control of the loaded file. Please open an issue on GitHub for any issues related to this experimental feature.\n",
      "  inference_model.load_state_dict(torch.load(best_model_path, map_location=DEVICE))\n"
     ]
    }
   ],
   "source": [
    "# Initialize model architecture\n",
    "inference_model = BubbleModel().to(DEVICE)\n",
    "inference_model.load_state_dict(torch.load(best_model_path, map_location=DEVICE))\n",
    "inference_model.eval()\n",
    "\n",
    "# Get standard inputs and gradient inputs\n",
    "t_inf = inf_inputs[:, :1]\n",
    "init_pos_inf = inf_inputs[:, 1:]\n",
    "t_inf_grad = inf_inputs[:, :1].clone().detach().requires_grad_(True)\n",
    "\n",
    "# Get predictions again WITH grad graph for velocity calculation\n",
    "pred_pos_for_grad = inference_model(t_inf_grad, init_pos_inf)\n",
    "\n",
    "# Calculate predicted velocity\n",
    "grads = []\n",
    "for i in range(3):\n",
    "    grad_i = torch.autograd.grad(\n",
    "        outputs=pred_pos_for_grad[:, i], # Differentiate position\n",
    "        inputs=t_inf_grad, # W.r.t time\n",
    "        grad_outputs=torch.ones_like(pred_pos_for_grad[:, i]),\n",
    "        create_graph=False,\n",
    "        retain_graph=True\n",
    "    )[0]\n",
    "    grads.append(grad_i)\n",
    "    \n",
    "velocity_pred = torch.cat(grads, dim=1)\n",
    "\n",
    "# Calculate losses\n",
    "with torch.no_grad():\n",
    "    # Get position predictions \n",
    "    pred_pos_no_grad = inference_model(t_inf, init_pos_inf)\n",
    "\n",
    "    # Calculate data loss\n",
    "    data_loss_inf = MSELoss()(pred_pos_no_grad, inf_targets).item()\n",
    "\n",
    "    # Load ground truth velocities\n",
    "    true_vel = inf_dataset.get_velocities().to(DEVICE)\n",
    "\n",
    "    # Calculate full velocity loss\n",
    "    full_velocity_loss_val = MSELoss()(velocity_pred, true_vel).item()\n",
    "\n",
    "    # Calculate projected velocities\n",
    "    theta = math.radians(ROTATION_Y);\n",
    "    e3 = torch.tensor([math.sin(theta), 0.0, math.cos(theta)], device=DEVICE)\n",
    "    vel_proj_pred = (velocity_pred * e3).sum(dim=1, keepdim=True)\n",
    "    vel_proj_true = (true_vel * e3).sum(dim=1, keepdim=True)\n",
    "\n",
    "    # Calculate projected velocity loss\n",
    "    projected_velocity_loss_val = MSELoss()(vel_proj_pred, vel_proj_true).item() \n",
    "\n",
    "# Print losses\n",
    "print(f\"\"\"Inference Results:\n",
    "Data Loss = {data_loss_inf:.6f}\n",
    "Projected Velocity Loss = {projected_velocity_loss_val:.6f}\n",
    "Full Velocity Loss = {full_velocity_loss_val:.6f}\n",
    "\"\"\")\n",
    "\n",
    "# Log losses\n",
    "log[\"PURE DATA MODEL\"][\"INFERENCE LOSS\"] = {\n",
    "    \"Best Model Path\": best_model_path,\n",
    "    \"Data Loss (Pos MSE)\": data_loss_inf,\n",
    "    \"Projected Velocity Loss\": projected_velocity_loss_val,\n",
    "    \"Full Velocity Loss\": full_velocity_loss_val\n",
    "}\n",
    "\n",
    "# Store outputs for plotting\n",
    "torch.save({\n",
    "    \"inputs\": inf_inputs.cpu(),\n",
    "    \"targets\": inf_targets.cpu(),\n",
    "    \"preds\": pred_pos_no_grad.cpu(),\n",
    "    \"ids\": inf_ids.cpu(),\n",
    "    \"vel_pred\": velocity_pred.detach().cpu(), \n",
    "    \"vel_proj_pred\": vel_proj_pred.detach().cpu(),\n",
    "    \"vel_proj_true\": vel_proj_true.detach().cpu()\n",
    "}, os.path.join(output_dir, \"inference_outputs.pt\"))\n",
    "\n",
    "print(f\"Inference outputs saved to {output_dir}/inference_outputs.pt\")"
   ]
  },
  {
   "cell_type": "markdown",
   "metadata": {},
   "source": [
    "### Log Data"
   ]
  },
  {
   "cell_type": "code",
   "execution_count": 14,
   "metadata": {},
   "outputs": [],
   "source": [
    "# Log run data to file\n",
    "logger.info(json.dumps(log, indent=2))\n",
    "\n",
    "# Clear logging handlers\n",
    "for handler in logging.root.handlers[:]:\n",
    "    logging.root.removeHandler(handler)"
   ]
  },
  {
   "cell_type": "markdown",
   "metadata": {},
   "source": [
    "### Plot Results"
   ]
  },
  {
   "cell_type": "code",
   "execution_count": 1,
   "metadata": {},
   "outputs": [
    {
     "ename": "NameError",
     "evalue": "name 'os' is not defined",
     "output_type": "error",
     "traceback": [
      "\u001b[0;31m---------------------------------------------------------------------------\u001b[0m",
      "\u001b[0;31mNameError\u001b[0m                                 Traceback (most recent call last)",
      "Cell \u001b[0;32mIn[1], line 2\u001b[0m\n\u001b[1;32m      1\u001b[0m \u001b[38;5;66;03m# Load inference outputs\u001b[39;00m\n\u001b[0;32m----> 2\u001b[0m output_filepath \u001b[38;5;241m=\u001b[39m \u001b[43mos\u001b[49m\u001b[38;5;241m.\u001b[39mpath\u001b[38;5;241m.\u001b[39mjoin(output_dir, \u001b[38;5;124m\"\u001b[39m\u001b[38;5;124minference_outputs.pt\u001b[39m\u001b[38;5;124m\"\u001b[39m)\n\u001b[1;32m      4\u001b[0m data \u001b[38;5;241m=\u001b[39m torch\u001b[38;5;241m.\u001b[39mload(output_filepath)\n\u001b[1;32m      5\u001b[0m inputs \u001b[38;5;241m=\u001b[39m data[\u001b[38;5;124m\"\u001b[39m\u001b[38;5;124minputs\u001b[39m\u001b[38;5;124m\"\u001b[39m]\n",
      "\u001b[0;31mNameError\u001b[0m: name 'os' is not defined"
     ]
    }
   ],
   "source": [
    "# Load inference outputs\n",
    "output_filepath = os.path.join(output_dir, \"inference_outputs.pt\")\n",
    "\n",
    "data = torch.load(output_filepath)\n",
    "inputs = data[\"inputs\"]\n",
    "targets = data[\"targets\"]\n",
    "preds_continuous = data[\"preds\"]\n",
    "bubble_ids = data[\"ids\"]\n",
    "vel_proj_pred = data[\"vel_proj_pred\"]\n",
    "\n",
    "# Convert predictions to numpy\n",
    "preds_np = preds_continuous.cpu().numpy() \n",
    "\n",
    "# Recalculate ground truth velocity for plotting\n",
    "true_vel_plot = inf_dataset.get_velocities() # Get full true velocities [N, 3] CPU tensor\n",
    "\n",
    "# Calculate e3 vector\n",
    "theta_plot = math.radians(ROTATION_Y);\n",
    "e3_plot = torch.tensor([math.sin(theta_plot), 0.0, math.cos(theta_plot)], dtype=torch.float32) \n",
    "\n",
    "# Project true velocity\n",
    "vel_proj_true_plot = (true_vel_plot * e3_plot).sum(dim=1, keepdim=True)\n",
    "\n",
    "# Plot\n",
    "bubble_id = 0\n",
    "axes = ['X', 'Y', 'Z'] \n",
    "\n",
    "mask = bubble_ids == bubble_id\n",
    "times_np = inputs[mask][:, 0].cpu().numpy() # Get corresponding times as numpy\n",
    "\n",
    "# Position (X, Y, Z)\n",
    "for component_idx, component_name in enumerate(axes):\n",
    "    true_component = targets[mask][:, component_idx].cpu().numpy()\n",
    "    pred_component = preds_np[mask][:, component_idx] # Raw prediction from numpy array\n",
    "\n",
    "    plt.figure(figsize=(10, 5))\n",
    "    plt.plot(times_np, true_component, label=f\"True {component_name}\", linewidth=2)\n",
    "    plt.plot(times_np, pred_component, label=f\"Predicted {component_name}\", linestyle=\"--\", linewidth=2)\n",
    "    plt.title(f\"Data-Driven - Bubble {bubble_id} - {component_name} Position vs Time\")\n",
    "    plt.xlabel(\"Time (s)\")\n",
    "    plt.ylabel(f\"{component_name} Position (m)\")\n",
    "    plt.legend()\n",
    "    plt.grid(True)\n",
    "    plt.tight_layout()\n",
    "    plot_filename = f\"bubble_{bubble_id}_{component_name}_vs_t_Data.png\"\n",
    "    plt.savefig(os.path.join(output_dir, plot_filename))\n",
    "    plt.show()\n",
    "\n",
    "# Projected Velocity\n",
    "v_true_np = vel_proj_true_plot[mask].squeeze().cpu().numpy() \n",
    "v_pred_np = vel_proj_pred[mask].squeeze().cpu().numpy()\n",
    "\n",
    "plt.figure(figsize=(10, 5))\n",
    "plt.plot(times_np, v_true_np, label=\"True Velocity\", linewidth=2)\n",
    "plt.plot(times_np, v_pred_np, label=\"Predicted Velocity\", linestyle=\"--\", linewidth=2)\n",
    "plt.title(f\"Data-Driven - Bubble {bubble_id} - Velocity vs Time\")\n",
    "plt.xlabel(\"Time (s)\") # Added units\n",
    "plt.ylabel(\"Velocity Along Tube (m/s)\") # Added units\n",
    "plt.legend()\n",
    "plt.grid(True)\n",
    "plt.tight_layout()\n",
    "plot_filename = f\"bubble_{bubble_id}_{component_name}_vs_t_Data.png\"\n",
    "plt.savefig(os.path.join(output_dir, plot_filename))\n",
    "plt.show()\n",
    "\n",
    "plt.close()\n",
    "print(f\"Plots saved to {output_dir}\")"
   ]
  }
 ],
 "metadata": {
  "kernelspec": {
   "display_name": "Python 3",
   "language": "python",
   "name": "python3"
  },
  "language_info": {
   "codemirror_mode": {
    "name": "ipython",
    "version": 3
   },
   "file_extension": ".py",
   "mimetype": "text/x-python",
   "name": "python",
   "nbconvert_exporter": "python",
   "pygments_lexer": "ipython3",
   "version": "3.10.10"
  }
 },
 "nbformat": 4,
 "nbformat_minor": 4
}
